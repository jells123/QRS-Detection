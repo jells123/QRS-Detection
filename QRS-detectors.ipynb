{
 "cells": [
  {
   "cell_type": "code",
   "execution_count": 1,
   "metadata": {},
   "outputs": [],
   "source": [
    "import tensorflow as tf\n",
    "import numpy as np\n",
    "import matplotlib.pyplot as plt\n",
    "import wfdb"
   ]
  },
  {
   "cell_type": "code",
   "execution_count": 2,
   "metadata": {},
   "outputs": [],
   "source": [
    "def parabola(a,n,r):\n",
    "    assert n>2*r\n",
    "    y = np.zeros(n, dtype = np.float32)\n",
    "    x = np.array(range(2, 2 * r+1))\n",
    "    for i in a:\n",
    "        if i > r-1 and i <= n-r:\n",
    "            # y[i-r-1:i+r+1] = ((r+1)**2-(x-r-1)**2)/(r+1)**2\n",
    "            y[i-r+1:i+r] = ((r+1)**2-(x-r-1)**2)/(r+1)**2\n",
    "        elif i < r:\n",
    "            y[:i+r] = ((r+1)**2-(x[r-i-1:]-r-1)**2)/(r+1)**2\n",
    "        elif i<n:\n",
    "            y[i-r+1:] = ((r+1)**2-(x[:r-1+(n-i)]-r-1)**2)/(r+1)**2\n",
    "    return y"
   ]
  },
  {
   "cell_type": "code",
   "execution_count": 5,
   "metadata": {},
   "outputs": [],
   "source": [
    "def selectFromSignal(signal, seqL, ninputs, numChan=2):\n",
    "    \"\"\" \n",
    "    seqL:  number of timesteps to be used in recurrent nn\n",
    "    ninput : is number of inputs in each timestep\n",
    "    \"\"\"\n",
    "    segmentL  = seqL * ninputs; print(segmentL)\n",
    "    inpOutSegment = tf.random_crop(signal, [numChan, segmentL])\n",
    "    inputs = inpOutSegment[0, :]\n",
    "    target = inpOutSegment[1, :]\n",
    "    return inputs, target\n",
    "\n",
    "def selectFromSignals(signals, seqL, ninputs, numChan=3):\n",
    "    file_idx = np.random.randint(0, signals.shape[0]) \n",
    "#     signal = signals[file_idx, :, :]\n",
    "    \n",
    "    segmentL  = seqL * ninputs\n",
    "    inpOutSegment = tf.random_crop(signals[file_idx, :, :], [numChan, segmentL])\n",
    "#   inpOutSegment = tf.random_crop(signals[file_idx, :, 100:], [numChan, segmentL])\n",
    "\n",
    "    inputs = inpOutSegment[0:2, :]\n",
    "    target = inpOutSegment[2, :]\n",
    "    print(inputs.shape, target.shape)\n",
    "    return inputs, target\n"
   ]
  },
  {
   "cell_type": "code",
   "execution_count": 6,
   "metadata": {},
   "outputs": [
    {
     "data": {
      "text/plain": [
       "((462600,), (462600,))"
      ]
     },
     "execution_count": 6,
     "metadata": {},
     "output_type": "execute_result"
    },
    {
     "data": {
      "image/png": "[encoded data removed]",
      "text/plain": [
       "<Figure size 432x288 with 1 Axes>"
      ]
     },
     "metadata": {
      "needs_background": "light"
     },
     "output_type": "display_data"
    }
   ],
   "source": [
    "record = wfdb.rdrecord('train/I01', channels=[1, 6])\n",
    "annotation = wfdb.rdann('train/I01', 'atr')\n",
    "\n",
    "signals = record.__dict__['p_signal']\n",
    "channel_ii = signals[:, 0]\n",
    "channel_v1 = signals[:, 1]\n",
    "\n",
    "ticks = annotation.__dict__['sample']\n",
    "symbols = annotation.__dict__['symbol']\n",
    "\n",
    "ticks_signal = np.zeros(channel_ii.shape)\n",
    "ticks_signal[ticks] = 1.0\n",
    "plt.plot(ticks_signal[:1000])\n",
    "\n",
    "channel_ii.shape, channel_v1.shape"
   ]
  },
  {
   "cell_type": "markdown",
   "metadata": {},
   "source": [
    "### Preprocessing"
   ]
  },
  {
   "cell_type": "code",
   "execution_count": 7,
   "metadata": {},
   "outputs": [],
   "source": [
    "def removeBaseline(signal,fs):\n",
    "    baseline = np.convolve(signal, np.ones(fs)/fs, mode = 'same')\n",
    "    signalFinal = signal-baseline\n",
    "    return signalFinal,baseline"
   ]
  },
  {
   "cell_type": "code",
   "execution_count": 8,
   "metadata": {
    "scrolled": true
   },
   "outputs": [
    {
     "name": "stdout",
     "output_type": "stream",
     "text": [
      "Loaded  I01\n",
      "Loaded  I02\n",
      "Loaded  I03\n",
      "! Negative ticks in  I04\n",
      "Loaded  I04\n",
      "Loaded  I05\n",
      "(5, 3, 462600)\n"
     ]
    }
   ],
   "source": [
    "record = wfdb.rdrecord('train/I01', channels=[1, 6])\n",
    "annotation = wfdb.rdann('train/I01', 'atr')\n",
    "signals = record.__dict__['p_signal']\n",
    "\n",
    "N = signals.shape[0]\n",
    "fs = record.__dict__['fs']\n",
    "p_param = 10\n",
    "\n",
    "import os\n",
    "filenames = np.unique(list(map(lambda x : x.split('.')[0], os.listdir('train'))))\n",
    "qrsAnnot = ['N','L','R','B','A','a','J','S','V','r','F','e','j','n','E','/','f','Q',' ?']\n",
    "\n",
    "all_data = np.zeros((len(filenames), signals.shape[1]+1, N), dtype=np.float32)\n",
    "idx = 0\n",
    "\n",
    "for f in filenames[:5]:\n",
    "    path = 'train/{}'.format(f)\n",
    "    # read annotation\n",
    "    annotation = wfdb.rdann(path, 'atr')\n",
    "    uniq_symbols = np.unique(annotation.__dict__['symbol'])\n",
    "    \n",
    "    # check if all symbols can be found in qrsAnnot list\n",
    "    if not np.all([(symbol in qrsAnnot) for symbol in uniq_symbols]):\n",
    "        print(\"! Skipping {}...\".format(f))\n",
    "        continue\n",
    "    \n",
    "    # read signals\n",
    "    record = wfdb.rdrecord(path, channels=[1, 6])\n",
    "    signals = record.__dict__['p_signal']\n",
    "        \n",
    "    # get channel II and V1\n",
    "    channel_ii = signals[:, 0]\n",
    "    channel_v1 = signals[:, 1]\n",
    "    \n",
    "    # remove baselines\n",
    "    chii_data_filter, _ = removeBaseline(channel_ii, fs)\n",
    "    chv1_data_filter, _ = removeBaseline(channel_v1, fs)\n",
    "    \n",
    "    # reshape to  -> (1, 462600)\n",
    "    chii_data_filter = chii_data_filter.reshape((1, -1))\n",
    "    chv1_data_filter = chv1_data_filter.reshape((1, -1))\n",
    "    \n",
    "    # put two signals together -> (2, 462600)\n",
    "    signal = np.concatenate((chii_data_filter, chv1_data_filter), axis=0)\n",
    "\n",
    "    # get ticks and create parabola\n",
    "    ticks = annotation.__dict__['sample']\n",
    "    if np.any(ticks < 0):\n",
    "        print(\"! Negative ticks in \", f)\n",
    "        ticks = ticks[1:]\n",
    "    \n",
    "    p = parabola(ticks, N, p_param)\n",
    "    \n",
    "    targets = p.reshape((1, -1))\n",
    "    \n",
    "    # create data with signals on data[0], data[1] and ticks on data[2]\n",
    "    data = np.concatenate((signal, targets), axis=0)\n",
    "    \n",
    "    all_data[idx] = data\n",
    "    idx += 1\n",
    "    print(\"Loaded \", f)\n",
    "\n",
    "all_data = all_data[:idx]\n",
    "print(all_data.shape)"
   ]
  },
  {
   "cell_type": "code",
   "execution_count": 9,
   "metadata": {},
   "outputs": [
    {
     "name": "stdout",
     "output_type": "stream",
     "text": [
      "Loaded  100\n",
      "Loaded  101\n",
      "Loaded  102\n",
      "Loaded  103\n",
      "Loaded  104\n",
      "(5, 3, 650000)\n"
     ]
    }
   ],
   "source": [
    "record = wfdb.rdrecord('test/100')\n",
    "annotation = wfdb.rdann('test/100', 'atr')\n",
    "signals = record.__dict__['p_signal']\n",
    "\n",
    "N = signals.shape[0]\n",
    "fs = record.__dict__['fs']\n",
    "p_param = 10\n",
    "\n",
    "import os\n",
    "filenames = np.unique(list(map(lambda x : x.split('.')[0], os.listdir('test'))))\n",
    "qrsAnnot = ['N','L','R','B','A','a','J','S','V','r','F','e','j','n','E','/','f','Q',' ?']\n",
    "\n",
    "test_data = np.zeros((len(filenames), signals.shape[1]+1, N), dtype=np.float32)\n",
    "idx = 0\n",
    "\n",
    "for f in filenames[:5]:\n",
    "    path = 'test/{}'.format(f)\n",
    "    # read annotation\n",
    "    annotation = wfdb.rdann(path, 'atr')\n",
    "    uniq_symbols = np.unique(annotation.__dict__['symbol'])\n",
    "    \n",
    "    # check if all symbols can be found in qrsAnnot list\n",
    "    # ... skipped?\n",
    "    \n",
    "    # read signals\n",
    "    record = wfdb.rdrecord(path)\n",
    "    signals = record.__dict__['p_signal']\n",
    "        \n",
    "    # get channel II and V1\n",
    "    channel_ii = signals[:, 0]\n",
    "    channel_v1 = signals[:, 1]\n",
    "    \n",
    "    # remove baselines\n",
    "    chii_data_filter, _ = removeBaseline(channel_ii, fs)\n",
    "    chv1_data_filter, _ = removeBaseline(channel_v1, fs)\n",
    "    \n",
    "    # reshape to  -> (1, 462600)\n",
    "    chii_data_filter = chii_data_filter.reshape((1, -1))\n",
    "    chv1_data_filter = chv1_data_filter.reshape((1, -1))\n",
    "    \n",
    "    # put two signals together -> (2, 462600)\n",
    "    signal = np.concatenate((chii_data_filter, chv1_data_filter), axis=0)\n",
    "\n",
    "    # get ticks and create parabola\n",
    "    ticks = annotation.__dict__['sample']\n",
    "    if np.any(ticks < 0):\n",
    "        print(\"! Negative ticks in \", f)\n",
    "        ticks = ticks[1:]\n",
    "#         ticks[ticks < 0] = 0.0\n",
    "    \n",
    "    p = parabola(ticks, N, p_param)\n",
    "    \n",
    "    targets = p.reshape((1, -1))\n",
    "    \n",
    "    # create data with signals on data[0], data[1] and ticks on data[2]\n",
    "    data = np.concatenate((signal, targets), axis=0)\n",
    "    \n",
    "    test_data[idx] = data\n",
    "    idx += 1\n",
    "    print(\"Loaded \", f)\n",
    "\n",
    "test_data = test_data[:idx]\n",
    "print(test_data.shape)"
   ]
  },
  {
   "cell_type": "code",
   "execution_count": 10,
   "metadata": {},
   "outputs": [
    {
     "data": {
      "text/plain": [
       "[<matplotlib.lines.Line2D at 0x18e45cfe358>,\n",
       " <matplotlib.lines.Line2D at 0x18e45cfe4a8>,\n",
       " <matplotlib.lines.Line2D at 0x18e45cfe5f8>]"
      ]
     },
     "execution_count": 10,
     "metadata": {},
     "output_type": "execute_result"
    },
    {
     "data": {
      "image/png": "[encoded data removed]",
      "text/plain": [
       "<Figure size 432x288 with 1 Axes>"
      ]
     },
     "metadata": {
      "needs_background": "light"
     },
     "output_type": "display_data"
    }
   ],
   "source": [
    "sig = all_data[1, :, :]\n",
    "x = np.arange(sig.shape[1])\n",
    "\n",
    "plt.plot(x[:1000], sig[0, :1000], 'r', x[:1000], sig[1, :1000], 'b', x[:1000], sig[2, :1000], 'g')"
   ]
  },
  {
   "cell_type": "markdown",
   "metadata": {},
   "source": [
    "### Parameters"
   ]
  },
  {
   "cell_type": "code",
   "execution_count": 11,
   "metadata": {},
   "outputs": [],
   "source": [
    "window_size = 250\n",
    "p_param = 10\n",
    "seqL = 20\n",
    "fs = 257\n",
    "ninputs = int(0.05*fs) \n",
    "batchSize = 8\n",
    "testDataSize = 62600\n",
    "val_perc = 0.15"
   ]
  },
  {
   "cell_type": "code",
   "execution_count": 12,
   "metadata": {},
   "outputs": [
    {
     "name": "stdout",
     "output_type": "stream",
     "text": [
      "(650000,)\n"
     ]
    },
    {
     "data": {
      "image/png": "[encoded data removed]",
      "text/plain": [
       "<Figure size 432x288 with 2 Axes>"
      ]
     },
     "metadata": {
      "needs_background": "light"
     },
     "output_type": "display_data"
    }
   ],
   "source": [
    "print(channel_ii.shape)\n",
    "\n",
    "chii_data_filter,baseline_chii = removeBaseline(channel_ii,fs)\n",
    "chv1_data_filter,baseline_chv1 = removeBaseline(channel_v1,fs)\n",
    "x = range(1000)\n",
    "\n",
    "plt.figure(1)\n",
    "plt.subplot(211)\n",
    "plt.plot(x,baseline_chii[1000:2000], 'r',x,channel_ii[1000:2000],'b',x,chii_data_filter[1000:2000])\n",
    "plt.legend(('baseline', 'channel ii', 'chii filter'),\n",
    "           loc='upper right', bbox_to_anchor=(1.45, 0.8),shadow=True, ncol=1)\n",
    "\n",
    "plt.subplot(212)\n",
    "plt.plot(x,baseline_chv1[1000:2000], 'r',x,channel_v1[1000:2000],'b',x,chv1_data_filter[1000:2000])\n",
    "\n",
    "plt.legend(('baseline', 'channel v1', 'chv1 filter'),\n",
    "           loc='upper right', bbox_to_anchor=(1.45, 0.8),shadow=True, ncol=1)\n",
    "plt.show()"
   ]
  },
  {
   "cell_type": "code",
   "execution_count": 13,
   "metadata": {},
   "outputs": [
    {
     "name": "stdout",
     "output_type": "stream",
     "text": [
      "(5, 3, 393210) (5, 3, 69390) (5, 3, 650000)\n",
      "WARNING:tensorflow:From C:\\Users\\julka\\Anaconda3\\envs\\tensorflow_env\\lib\\site-packages\\tensorflow\\python\\ops\\control_flow_ops.py:3632: colocate_with (from tensorflow.python.framework.ops) is deprecated and will be removed in a future version.\n",
      "Instructions for updating:\n",
      "Colocations handled automatically by placer.\n",
      "(2, 240) (240,)\n",
      "(2, 240) (240,)\n",
      "(2, 240) (240,)\n"
     ]
    }
   ],
   "source": [
    "trainData = all_data\n",
    "testData = test_data\n",
    "\n",
    "# train validation split\n",
    "valData = trainData[:, :, :int(trainData.shape[2]*val_perc)]\n",
    "trainData = trainData[:, :, int(trainData.shape[2]*val_perc):]\n",
    "\n",
    "print(trainData.shape, valData.shape, testData.shape)\n",
    "\n",
    "# training data\n",
    "trainData = tf.data.Dataset.from_tensors(trainData)\n",
    "trainData = trainData.map(lambda x:  selectFromSignals(x, seqL, ninputs))\n",
    "trainData = trainData.repeat()  # Repeat the input indefinitely.\n",
    "trainData = trainData.batch(batchSize)\n",
    "\n",
    "# validation data\n",
    "valData = tf.data.Dataset.from_tensors(valData)\n",
    "valData = valData.map(lambda x:  selectFromSignals(x, seqL, ninputs))\n",
    "valData = valData.repeat()  # Repeat the input indefinitely.\n",
    "valData = valData.batch(batchSize)\n",
    "\n",
    "# test data\n",
    "testData = tf.data.Dataset.from_tensors(testData)\n",
    "testData = testData.map(lambda x:  selectFromSignals(x, seqL, ninputs))\n",
    "testData = testData.repeat()  # Repeat the input indefinitely.\n",
    "testData = testData.batch(batchSize)\n"
   ]
  },
  {
   "cell_type": "code",
   "execution_count": 14,
   "metadata": {
    "scrolled": true
   },
   "outputs": [
    {
     "data": {
      "image/png": "[encoded data removed]",
      "text/plain": [
       "<Figure size 432x288 with 1 Axes>"
      ]
     },
     "metadata": {
      "needs_background": "light"
     },
     "output_type": "display_data"
    },
    {
     "data": {
      "image/png": "[encoded data removed]",
      "text/plain": [
       "<Figure size 432x288 with 1 Axes>"
      ]
     },
     "metadata": {
      "needs_background": "light"
     },
     "output_type": "display_data"
    },
    {
     "data": {
      "image/png": "[encoded data removed]",
      "text/plain": [
       "<Figure size 432x288 with 1 Axes>"
      ]
     },
     "metadata": {
      "needs_background": "light"
     },
     "output_type": "display_data"
    }
   ],
   "source": [
    "# let's visualize the model's input data and target data\n",
    "iterator = trainData.make_initializable_iterator()\n",
    "next_element = iterator.get_next()\n",
    "with tf.Session() as sess:\n",
    "    sess.run(iterator.initializer)\n",
    "    inp, targ = sess.run(next_element)\n",
    "    \n",
    "plt.plot(inp[0,0,:])\n",
    "plt.title('inputs II')\n",
    "plt.show()\n",
    "plt.plot(inp[0,1,:])\n",
    "plt.title('inputs V1')\n",
    "plt.show()\n",
    "plt.plot(targ[0,:])\n",
    "plt.title('targets')\n",
    "plt.show()"
   ]
  },
  {
   "cell_type": "code",
   "execution_count": 15,
   "metadata": {
    "scrolled": true
   },
   "outputs": [
    {
     "name": "stdout",
     "output_type": "stream",
     "text": [
      "_________________________________________________________________\n",
      "Layer (type)                 Output Shape              Param #   \n",
      "=================================================================\n",
      "dense (Dense)                (None, 2, 64)             15424     \n",
      "_________________________________________________________________\n",
      "dense_1 (Dense)              (None, 2, 64)             4160      \n",
      "_________________________________________________________________\n",
      "flatten (Flatten)            (None, 128)               0         \n",
      "_________________________________________________________________\n",
      "dense_2 (Dense)              (None, 240)               30960     \n",
      "=================================================================\n",
      "Total params: 50,544\n",
      "Trainable params: 50,544\n",
      "Non-trainable params: 0\n",
      "_________________________________________________________________\n",
      "WARNING:tensorflow:From C:\\Users\\julka\\Anaconda3\\envs\\tensorflow_env\\lib\\site-packages\\tensorflow\\python\\keras\\utils\\losses_utils.py:170: to_float (from tensorflow.python.ops.math_ops) is deprecated and will be removed in a future version.\n",
      "Instructions for updating:\n",
      "Use tf.cast instead.\n",
      "WARNING:tensorflow:From C:\\Users\\julka\\Anaconda3\\envs\\tensorflow_env\\lib\\site-packages\\tensorflow\\python\\ops\\math_ops.py:3066: to_int32 (from tensorflow.python.ops.math_ops) is deprecated and will be removed in a future version.\n",
      "Instructions for updating:\n",
      "Use tf.cast instead.\n",
      "Epoch 1/5\n",
      "1000/1000 [==============================] - 17s 17ms/step - loss: 0.0400 - mean_absolute_error: 0.1169 - val_loss: 0.0292 - val_mean_absolute_error: 0.1128\n",
      "Epoch 2/5\n",
      "1000/1000 [==============================] - 17s 17ms/step - loss: 0.0161 - mean_absolute_error: 0.0796 - val_loss: 0.0244 - val_mean_absolute_error: 0.1026_absolute_e\n",
      "Epoch 3/5\n",
      "1000/1000 [==============================] - 14s 14ms/step - loss: 0.0121 - mean_absolute_error: 0.0669 - val_loss: 0.0222 - val_mean_absolute_error: 0.0952\n",
      "Epoch 4/5\n",
      "1000/1000 [==============================] - 14s 14ms/step - loss: 0.0102 - mean_absolute_error: 0.0608 - val_loss: 0.0194 - val_mean_absolute_error: 0.0891\n",
      "Epoch 5/5\n",
      "1000/1000 [==============================] - 14s 14ms/step - loss: 0.0089 - mean_absolute_error: 0.0560 - val_loss: 0.0195 - val_mean_absolute_error: 0.0880\n"
     ]
    },
    {
     "data": {
      "text/plain": [
       "<tensorflow.python.keras.callbacks.History at 0x18e0067a7b8>"
      ]
     },
     "execution_count": 15,
     "metadata": {},
     "output_type": "execute_result"
    }
   ],
   "source": [
    "from tensorflow.python.keras import layers\n",
    "\n",
    "ffwdModel = tf.keras.Sequential()\n",
    "ffwdModel.add(layers.Dense(64, activation='relu', input_shape=(2,seqL*ninputs)))\n",
    "ffwdModel.add(layers.Dense(64, activation='relu'))\n",
    "ffwdModel.add(layers.Flatten())\n",
    "ffwdModel.add(layers.Dense(seqL * ninputs))\n",
    "ffwdModel.summary()\n",
    "\n",
    "ffwdModel.compile(optimizer=tf.train.RMSPropOptimizer(0.001), loss='MSE',metrics=['mae'])\n",
    "ffwdModel.fit(trainData, epochs=5, steps_per_epoch=1000, validation_data=valData, validation_steps=100)"
   ]
  },
  {
   "cell_type": "code",
   "execution_count": 16,
   "metadata": {},
   "outputs": [
    {
     "name": "stdout",
     "output_type": "stream",
     "text": [
      "500/500 [==============================] - 2s 3ms/step - loss: 0.1882 - mean_absolute_error: 0.3179\n",
      "test mean square error (loss):  0.1882250386327505   test absolute error:  0.31790856\n"
     ]
    },
    {
     "data": {
      "image/png": "[encoded data removed]",
      "text/plain": [
       "<Figure size 432x288 with 1 Axes>"
      ]
     },
     "metadata": {
      "needs_background": "light"
     },
     "output_type": "display_data"
    }
   ],
   "source": [
    "out = ffwdModel.evaluate(testData, steps=500)\n",
    "print('test mean square error (loss): ', out[0], '  test absolute error: ', out[1])\n",
    "iterator = trainData.make_initializable_iterator()\n",
    "next_element = iterator.get_next()\n",
    "with tf.Session() as sess:\n",
    "    sess.run(iterator.initializer)\n",
    "    inp, targ = sess.run(next_element)\n",
    "output = ffwdModel.predict(inp)\n",
    "t = range(seqL*ninputs)\n",
    "plt.plot(t,inp[0,0,:],'k',t,targ[0]-2,'r',t,output[0]-2,'b')\n",
    "plt.show()"
   ]
  },
  {
   "cell_type": "code",
   "execution_count": 17,
   "metadata": {},
   "outputs": [
    {
     "ename": "NameError",
     "evalue": "name 'transform_to_timesteps' is not defined",
     "output_type": "error",
     "traceback": [
      "\u001b[1;31m---------------------------------------------------------------------------\u001b[0m",
      "\u001b[1;31mNameError\u001b[0m                                 Traceback (most recent call last)",
      "\u001b[1;32m<ipython-input-17-075f3afde5a8>\u001b[0m in \u001b[0;36m<module>\u001b[1;34m\u001b[0m\n\u001b[0;32m     13\u001b[0m \u001b[0mcrop\u001b[0m \u001b[1;33m=\u001b[0m \u001b[0minputs\u001b[0m\u001b[1;33m[\u001b[0m\u001b[1;33m:\u001b[0m\u001b[1;33m,\u001b[0m \u001b[0mstart_idx\u001b[0m \u001b[1;33m:\u001b[0m \u001b[0mstart_idx\u001b[0m\u001b[1;33m+\u001b[0m\u001b[0mwindow\u001b[0m\u001b[1;33m]\u001b[0m\u001b[1;33m\u001b[0m\u001b[1;33m\u001b[0m\u001b[0m\n\u001b[0;32m     14\u001b[0m \u001b[1;33m\u001b[0m\u001b[0m\n\u001b[1;32m---> 15\u001b[1;33m \u001b[0mcrop\u001b[0m \u001b[1;33m=\u001b[0m \u001b[0mtransform_to_timesteps\u001b[0m\u001b[1;33m(\u001b[0m\u001b[0mcrop\u001b[0m\u001b[1;33m,\u001b[0m \u001b[0mseqL\u001b[0m\u001b[1;33m=\u001b[0m\u001b[1;36m20\u001b[0m\u001b[1;33m)\u001b[0m\u001b[1;33m.\u001b[0m\u001b[0mshape\u001b[0m\u001b[1;33m\u001b[0m\u001b[1;33m\u001b[0m\u001b[0m\n\u001b[0m",
      "\u001b[1;31mNameError\u001b[0m: name 'transform_to_timesteps' is not defined"
     ]
    }
   ],
   "source": [
    "np.random.seed(3)\n",
    "\n",
    "seqL = 20\n",
    "ninputs = 12\n",
    "window = seqL*ninputs\n",
    "\n",
    "selected = all_data[2, :, :]\n",
    "inputs = selected[0:2, :]\n",
    "targets = selected[2, :]\n",
    "\n",
    "numChan = 2\n",
    "start_idx = np.random.randint(0, inputs.shape[1] - window)\n",
    "crop = inputs[:, start_idx : start_idx+window]\n",
    "\n",
    "crop = transform_to_timesteps(crop, seqL=20).shape"
   ]
  },
  {
   "cell_type": "code",
   "execution_count": 106,
   "metadata": {},
   "outputs": [
    {
     "name": "stdout",
     "output_type": "stream",
     "text": [
      "(2, 240)\n"
     ]
    },
    {
     "data": {
      "text/plain": [
       "(20, 2, 12)"
      ]
     },
     "execution_count": 106,
     "metadata": {},
     "output_type": "execute_result"
    }
   ],
   "source": [
    "def transform_to_timesteps(arr, seqL=20):\n",
    "    ninputs = int( int(arr.shape[1]) / seqL)\n",
    "    nchannels = arr.shape[0]\n",
    "    \n",
    "    arr = arr.T.reshape(seqL, ninputs, nchannels)\n",
    "    \n",
    "    new_arr = np.zeros((seqL, nchannels, ninputs), dtype=np.float32)\n",
    "    for i in range(seqL):\n",
    "        new_arr[i] = arr[i].T\n",
    "    \n",
    "    return new_arr\n",
    " \n",
    "arr = np.arange(1, 481, dtype=np.float32)\n",
    "arr = arr.reshape(2, -1)\n",
    "print(arr.shape)\n",
    "\n",
    "new_arr = transform_to_timesteps(arr, seqL=20)\n",
    "new_arr.shape"
   ]
  },
  {
   "cell_type": "code",
   "execution_count": 19,
   "metadata": {},
   "outputs": [
    {
     "name": "stderr",
     "output_type": "stream",
     "text": [
      "C:\\Users\\julka\\Anaconda3\\envs\\tensorflow_env\\lib\\site-packages\\tensorflow\\python\\client\\session.py:1702: UserWarning: An interactive session is already active. This can cause out-of-memory errors in some cases. You must explicitly call `InteractiveSession.close()` to release resources held by the other session(s).\n",
      "  warnings.warn('An interactive session is already active. This can '\n"
     ]
    },
    {
     "data": {
      "text/plain": [
       "array([[[ 1.,  2.,  3.,  4.],\n",
       "        [13., 14., 15., 16.]],\n",
       "\n",
       "       [[ 5.,  6.,  7.,  8.],\n",
       "        [17., 18., 19., 20.]],\n",
       "\n",
       "       [[ 9., 10., 11., 12.],\n",
       "        [21., 22., 23., 24.]]], dtype=float32)"
      ]
     },
     "execution_count": 19,
     "metadata": {},
     "output_type": "execute_result"
    }
   ],
   "source": [
    "import tensorflow as tf\n",
    "sess = tf.InteractiveSession()\n",
    "\n",
    "arr = np.arange(1, 25, dtype=np.float32)\n",
    "arr = arr.reshape(2, -1)\n",
    "c = tf.constant(arr)\n",
    "\n",
    "# c = tf.reshape(c, (3, 4, 2))\n",
    "c = tf.transpose(c)\n",
    "c = tf.reshape(c, (3, 4, 2))\n",
    "# print(c.shape)\n",
    "c = tf.transpose(c, perm=[0,2,1])\n",
    "\n",
    "c.eval()"
   ]
  },
  {
   "cell_type": "code",
   "execution_count": 20,
   "metadata": {},
   "outputs": [],
   "source": [
    "def selectFromSignals_LSTM(signals, seqL, ninputs, numChan=3):\n",
    "    file_idx = np.random.randint(0, signals.shape[0]) \n",
    "    signal = signals[file_idx, :, :]\n",
    "    \n",
    "    segmentL  = seqL * ninputs\n",
    "    inpOutSegment = tf.random_crop(signal, [numChan, segmentL])\n",
    "\n",
    "    inputs = inpOutSegment[0:2, :]\n",
    "    target = inpOutSegment[2, :]\n",
    "    \n",
    "    inputs = tf.transpose(inputs)\n",
    "    inputs = tf.reshape(inputs, (seqL, ninputs, 2))\n",
    "    inputs = tf.transpose(inputs, perm=[0,2,1])\n",
    "    \n",
    "    print(inputs.shape, target.shape)\n",
    "    return inputs, target"
   ]
  },
  {
   "cell_type": "code",
   "execution_count": 29,
   "metadata": {},
   "outputs": [
    {
     "name": "stdout",
     "output_type": "stream",
     "text": [
      "(5, 3, 393210) (5, 3, 69390) (5, 3, 650000)\n",
      "(20, 2, 12) (240,)\n",
      "(20, 2, 12) (240,)\n",
      "(20, 2, 12) (240,)\n"
     ]
    }
   ],
   "source": [
    "trainData = all_data\n",
    "testData = test_data\n",
    "\n",
    "# train validation split\n",
    "valData = trainData[:, :, :int(trainData.shape[2]*val_perc)]\n",
    "trainData = trainData[:, :, int(trainData.shape[2]*val_perc):]\n",
    "\n",
    "print(trainData.shape, valData.shape, testData.shape)\n",
    "\n",
    "# training data\n",
    "trainData = tf.data.Dataset.from_tensors(trainData)\n",
    "trainData = trainData.map(lambda x:  selectFromSignals_LSTM(x, seqL, ninputs))\n",
    "trainData = trainData.repeat()  # Repeat the input indefinitely.\n",
    "# trainData = trainData.batch(batchSize)\n",
    "\n",
    "# validation data\n",
    "valData = tf.data.Dataset.from_tensors(valData)\n",
    "valData = valData.map(lambda x:  selectFromSignals_LSTM(x, seqL, ninputs))\n",
    "valData = valData.repeat()  # Repeat the input indefinitely.\n",
    "# valData = valData.batch(batchSize)\n",
    "\n",
    "# test data\n",
    "testData = tf.data.Dataset.from_tensors(testData)\n",
    "testData = testData.map(lambda x:  selectFromSignals_LSTM(x, seqL, ninputs))\n",
    "testData = testData.repeat()  # Repeat the input indefinitely.\n",
    "# testData = testData.batch(batchSize)"
   ]
  },
  {
   "cell_type": "code",
   "execution_count": 33,
   "metadata": {},
   "outputs": [
    {
     "data": {
      "text/plain": [
       "(5, 1)"
      ]
     },
     "execution_count": 33,
     "metadata": {},
     "output_type": "execute_result"
    }
   ],
   "source": [
    "x = np.arange(5)\n",
    "x = x.reshape(-1, 1)\n",
    "x.shape"
   ]
  },
  {
   "cell_type": "code",
   "execution_count": 37,
   "metadata": {},
   "outputs": [
    {
     "name": "stdout",
     "output_type": "stream",
     "text": [
      "_________________________________________________________________\n",
      "Layer (type)                 Output Shape              Param #   \n",
      "=================================================================\n",
      "lstm_11 (LSTM)               (None, 2, 32)             5760      \n",
      "_________________________________________________________________\n",
      "flatten_11 (Flatten)         (None, 64)                0         \n",
      "_________________________________________________________________\n",
      "dense_12 (Dense)             (None, 240)               15600     \n",
      "_________________________________________________________________\n",
      "reshape_1 (Reshape)          (None, 240, 1)            0         \n",
      "=================================================================\n",
      "Total params: 21,360\n",
      "Trainable params: 21,360\n",
      "Non-trainable params: 0\n",
      "_________________________________________________________________\n",
      "Epoch 1/10\n",
      "1000/1000 [==============================] - 11s 11ms/step - loss: 0.0599 - mean_absolute_error: 0.1119 - val_loss: 0.0595 - val_mean_absolute_error: 0.1257\n",
      "Epoch 2/10\n",
      " 669/1000 [===================>..........] - ETA: 2s - loss: 0.0602 - mean_absolute_error: 0.1254"
     ]
    },
    {
     "ename": "KeyboardInterrupt",
     "evalue": "",
     "output_type": "error",
     "traceback": [
      "\u001b[1;31m---------------------------------------------------------------------------\u001b[0m",
      "\u001b[1;31mKeyboardInterrupt\u001b[0m                         Traceback (most recent call last)",
      "\u001b[1;32m<ipython-input-37-16529ea1673b>\u001b[0m in \u001b[0;36m<module>\u001b[1;34m\u001b[0m\n\u001b[0;32m     32\u001b[0m \u001b[1;33m\u001b[0m\u001b[0m\n\u001b[0;32m     33\u001b[0m \u001b[0mffwdModelSequential\u001b[0m\u001b[1;33m.\u001b[0m\u001b[0mcompile\u001b[0m\u001b[1;33m(\u001b[0m\u001b[0moptimizer\u001b[0m\u001b[1;33m=\u001b[0m\u001b[0mtf\u001b[0m\u001b[1;33m.\u001b[0m\u001b[0mtrain\u001b[0m\u001b[1;33m.\u001b[0m\u001b[0mRMSPropOptimizer\u001b[0m\u001b[1;33m(\u001b[0m\u001b[1;36m0.001\u001b[0m\u001b[1;33m)\u001b[0m\u001b[1;33m,\u001b[0m \u001b[0mloss\u001b[0m\u001b[1;33m=\u001b[0m\u001b[1;34m'MSE'\u001b[0m\u001b[1;33m,\u001b[0m\u001b[0mmetrics\u001b[0m\u001b[1;33m=\u001b[0m\u001b[1;33m[\u001b[0m\u001b[1;34m'mae'\u001b[0m\u001b[1;33m]\u001b[0m\u001b[1;33m)\u001b[0m\u001b[1;33m\u001b[0m\u001b[1;33m\u001b[0m\u001b[0m\n\u001b[1;32m---> 34\u001b[1;33m \u001b[0mffwdModelSequential\u001b[0m\u001b[1;33m.\u001b[0m\u001b[0mfit\u001b[0m\u001b[1;33m(\u001b[0m\u001b[0mtrainData\u001b[0m\u001b[1;33m,\u001b[0m  \u001b[0mepochs\u001b[0m\u001b[1;33m=\u001b[0m\u001b[1;36m10\u001b[0m\u001b[1;33m,\u001b[0m \u001b[0msteps_per_epoch\u001b[0m\u001b[1;33m=\u001b[0m\u001b[1;36m1000\u001b[0m\u001b[1;33m,\u001b[0m \u001b[0mvalidation_data\u001b[0m\u001b[1;33m=\u001b[0m\u001b[0mtrainData\u001b[0m\u001b[1;33m,\u001b[0m \u001b[0mvalidation_steps\u001b[0m\u001b[1;33m=\u001b[0m\u001b[1;36m100\u001b[0m\u001b[1;33m)\u001b[0m\u001b[1;33m\u001b[0m\u001b[1;33m\u001b[0m\u001b[0m\n\u001b[0m",
      "\u001b[1;32m~\\Anaconda3\\envs\\tensorflow_env\\lib\\site-packages\\tensorflow\\python\\keras\\engine\\training.py\u001b[0m in \u001b[0;36mfit\u001b[1;34m(self, x, y, batch_size, epochs, verbose, callbacks, validation_split, validation_data, shuffle, class_weight, sample_weight, initial_epoch, steps_per_epoch, validation_steps, max_queue_size, workers, use_multiprocessing, **kwargs)\u001b[0m\n\u001b[0;32m    878\u001b[0m           \u001b[0minitial_epoch\u001b[0m\u001b[1;33m=\u001b[0m\u001b[0minitial_epoch\u001b[0m\u001b[1;33m,\u001b[0m\u001b[1;33m\u001b[0m\u001b[1;33m\u001b[0m\u001b[0m\n\u001b[0;32m    879\u001b[0m           \u001b[0msteps_per_epoch\u001b[0m\u001b[1;33m=\u001b[0m\u001b[0msteps_per_epoch\u001b[0m\u001b[1;33m,\u001b[0m\u001b[1;33m\u001b[0m\u001b[1;33m\u001b[0m\u001b[0m\n\u001b[1;32m--> 880\u001b[1;33m           validation_steps=validation_steps)\n\u001b[0m\u001b[0;32m    881\u001b[0m \u001b[1;33m\u001b[0m\u001b[0m\n\u001b[0;32m    882\u001b[0m   def evaluate(self,\n",
      "\u001b[1;32m~\\Anaconda3\\envs\\tensorflow_env\\lib\\site-packages\\tensorflow\\python\\keras\\engine\\training_arrays.py\u001b[0m in \u001b[0;36mmodel_iteration\u001b[1;34m(model, inputs, targets, sample_weights, batch_size, epochs, verbose, callbacks, val_inputs, val_targets, val_sample_weights, shuffle, initial_epoch, steps_per_epoch, validation_steps, mode, validation_in_fit, **kwargs)\u001b[0m\n\u001b[0;32m    264\u001b[0m           \u001b[1;31m# `ins` can be callable in DistributionStrategy + eager case.\u001b[0m\u001b[1;33m\u001b[0m\u001b[1;33m\u001b[0m\u001b[1;33m\u001b[0m\u001b[0m\n\u001b[0;32m    265\u001b[0m           \u001b[0mactual_inputs\u001b[0m \u001b[1;33m=\u001b[0m \u001b[0mins\u001b[0m\u001b[1;33m(\u001b[0m\u001b[1;33m)\u001b[0m \u001b[1;32mif\u001b[0m \u001b[0mcallable\u001b[0m\u001b[1;33m(\u001b[0m\u001b[0mins\u001b[0m\u001b[1;33m)\u001b[0m \u001b[1;32melse\u001b[0m \u001b[0mins\u001b[0m\u001b[1;33m\u001b[0m\u001b[1;33m\u001b[0m\u001b[0m\n\u001b[1;32m--> 266\u001b[1;33m           \u001b[0mbatch_outs\u001b[0m \u001b[1;33m=\u001b[0m \u001b[0mf\u001b[0m\u001b[1;33m(\u001b[0m\u001b[0mactual_inputs\u001b[0m\u001b[1;33m)\u001b[0m\u001b[1;33m\u001b[0m\u001b[1;33m\u001b[0m\u001b[0m\n\u001b[0m\u001b[0;32m    267\u001b[0m         \u001b[1;32mexcept\u001b[0m \u001b[0merrors\u001b[0m\u001b[1;33m.\u001b[0m\u001b[0mOutOfRangeError\u001b[0m\u001b[1;33m:\u001b[0m\u001b[1;33m\u001b[0m\u001b[1;33m\u001b[0m\u001b[0m\n\u001b[0;32m    268\u001b[0m           logging.warning('Your dataset iterator ran out of data; '\n",
      "\u001b[1;32m~\\Anaconda3\\envs\\tensorflow_env\\lib\\site-packages\\tensorflow\\python\\keras\\backend.py\u001b[0m in \u001b[0;36m__call__\u001b[1;34m(self, inputs)\u001b[0m\n\u001b[0;32m   3074\u001b[0m \u001b[1;33m\u001b[0m\u001b[0m\n\u001b[0;32m   3075\u001b[0m     fetched = self._callable_fn(*array_vals,\n\u001b[1;32m-> 3076\u001b[1;33m                                 run_metadata=self.run_metadata)\n\u001b[0m\u001b[0;32m   3077\u001b[0m     \u001b[0mself\u001b[0m\u001b[1;33m.\u001b[0m\u001b[0m_call_fetch_callbacks\u001b[0m\u001b[1;33m(\u001b[0m\u001b[0mfetched\u001b[0m\u001b[1;33m[\u001b[0m\u001b[1;33m-\u001b[0m\u001b[0mlen\u001b[0m\u001b[1;33m(\u001b[0m\u001b[0mself\u001b[0m\u001b[1;33m.\u001b[0m\u001b[0m_fetches\u001b[0m\u001b[1;33m)\u001b[0m\u001b[1;33m:\u001b[0m\u001b[1;33m]\u001b[0m\u001b[1;33m)\u001b[0m\u001b[1;33m\u001b[0m\u001b[1;33m\u001b[0m\u001b[0m\n\u001b[0;32m   3078\u001b[0m     return nest.pack_sequence_as(self._outputs_structure,\n",
      "\u001b[1;32m~\\Anaconda3\\envs\\tensorflow_env\\lib\\site-packages\\tensorflow\\python\\client\\session.py\u001b[0m in \u001b[0;36m__call__\u001b[1;34m(self, *args, **kwargs)\u001b[0m\n\u001b[0;32m   1437\u001b[0m           ret = tf_session.TF_SessionRunCallable(\n\u001b[0;32m   1438\u001b[0m               \u001b[0mself\u001b[0m\u001b[1;33m.\u001b[0m\u001b[0m_session\u001b[0m\u001b[1;33m.\u001b[0m\u001b[0m_session\u001b[0m\u001b[1;33m,\u001b[0m \u001b[0mself\u001b[0m\u001b[1;33m.\u001b[0m\u001b[0m_handle\u001b[0m\u001b[1;33m,\u001b[0m \u001b[0margs\u001b[0m\u001b[1;33m,\u001b[0m \u001b[0mstatus\u001b[0m\u001b[1;33m,\u001b[0m\u001b[1;33m\u001b[0m\u001b[1;33m\u001b[0m\u001b[0m\n\u001b[1;32m-> 1439\u001b[1;33m               run_metadata_ptr)\n\u001b[0m\u001b[0;32m   1440\u001b[0m         \u001b[1;32mif\u001b[0m \u001b[0mrun_metadata\u001b[0m\u001b[1;33m:\u001b[0m\u001b[1;33m\u001b[0m\u001b[1;33m\u001b[0m\u001b[0m\n\u001b[0;32m   1441\u001b[0m           \u001b[0mproto_data\u001b[0m \u001b[1;33m=\u001b[0m \u001b[0mtf_session\u001b[0m\u001b[1;33m.\u001b[0m\u001b[0mTF_GetBuffer\u001b[0m\u001b[1;33m(\u001b[0m\u001b[0mrun_metadata_ptr\u001b[0m\u001b[1;33m)\u001b[0m\u001b[1;33m\u001b[0m\u001b[1;33m\u001b[0m\u001b[0m\n",
      "\u001b[1;31mKeyboardInterrupt\u001b[0m: "
     ]
    }
   ],
   "source": [
    "numLstmUnits = 32\n",
    "denseDim = ninputs\n",
    "ffwdModelSequential = tf.keras.Sequential()\n",
    "\n",
    "# ffwdModelSequential.add(layers.Reshape((seqL,ninputs), input_shape=(seqL*ninputs,)))\n",
    "\n",
    "ffwdModelSequential.add(layers.LSTM(32, input_shape=(2, ninputs), return_sequences=True))\n",
    "# ffwdModelSequential.add(layers.LSTM(32, return_sequences=True))\n",
    "\n",
    "# ffwdModelSequential.add(layers.TimeDistributed(layers.Dense(denseDim)))\n",
    "ffwdModelSequential.add(layers.Flatten())\n",
    "\n",
    "ffwdModelSequential.add(layers.Dense(seqL * ninputs))\n",
    "\n",
    "# ffwdModelSequential.add(layers.Dense(seqL*ninputs))\n",
    "\n",
    "ffwdModelSequential.add(layers.Reshape((seqL * ninputs, 1)))\n",
    "\n",
    "# ffwdModelSequential.add(layers.TimeDistributed(layers.Dense(denseDim)))\n",
    "\n",
    "ffwdModelSequential.summary()\n",
    "\n",
    "\n",
    "'''\n",
    "rnnModel.add(layers.Reshape((seqL, ninputs), input_shape=(seqL*ninputs,)))\n",
    "rnnModel.add(layers.LSTM(units=numLstmUnits, return_sequences=True))         \n",
    "rnnModel.add(layers.LSTM(units=numLstmUnits, return_sequences=True))\n",
    "rnnModel.add(layers.TimeDistributed(layers.Dense(denseDim)))\n",
    "rnnModel.add(layers.Reshape((seqL*ninputs,)))\n",
    "'''\n",
    "\n",
    "ffwdModelSequential.compile(optimizer=tf.train.RMSPropOptimizer(0.001), loss='MSE',metrics=['mae'])\n",
    "ffwdModelSequential.fit(trainData,  epochs=10, steps_per_epoch=1000, validation_data=trainData, validation_steps=100)"
   ]
  },
  {
   "cell_type": "code",
   "execution_count": null,
   "metadata": {},
   "outputs": [],
   "source": [
    "ffwdModelSequential.compile(optimizer=tf.train.RMSPropOptimizer(0.001), loss='MSE',metrics=['mae'])\n",
    "out = ffwdModelSequential.evaluate(testData, steps=500)\n",
    "print('test mean square error (loss): ', out[0], '  test absolute error: ', out[1])\n",
    "iterator = trainData.make_initializable_iterator()\n",
    "next_element = iterator.get_next()\n",
    "with tf.Session() as sess:\n",
    "    sess.run(iterator.initializer)\n",
    "    inp, targ = sess.run(next_element)\n",
    "output = ffwdModelSequential.predict(inp)\n",
    "t = range(seqL*ninputs)\n",
    "plt.plot(t,inp[0,:],'k',t,targ[0],'r',t,output[0],'b')\n",
    "plt.show()"
   ]
  },
  {
   "cell_type": "code",
   "execution_count": null,
   "metadata": {},
   "outputs": [],
   "source": [
    "t = range(seqL*ninputs)\n",
    "plt.plot(t,inp[0,:],'k',t,targ[0],'r',t,output[0],'b')\n",
    "plt.show()"
   ]
  }
 ],
 "metadata": {
  "colab": {
   "collapsed_sections": [],
   "name": "QRS-detectors.ipynb",
   "provenance": [],
   "version": "0.3.2"
  },
  "kernelspec": {
   "display_name": "Python (3.7.3)",
   "language": "python",
   "name": "tensorflow_env"
  },
  "language_info": {
   "codemirror_mode": {
    "name": "ipython",
    "version": 3
   },
   "file_extension": ".py",
   "mimetype": "text/x-python",
   "name": "python",
   "nbconvert_exporter": "python",
   "pygments_lexer": "ipython3",
   "version": "3.7.3"
  }
 },
 "nbformat": 4,
 "nbformat_minor": 1
}
