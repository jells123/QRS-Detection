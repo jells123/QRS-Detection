{
 "cells": [
  {
   "cell_type": "code",
   "execution_count": 1,
   "metadata": {
    "colab": {
     "base_uri": "https://localhost:8080/",
     "height": 521
    },
    "colab_type": "code",
    "executionInfo": {
     "elapsed": 8794,
     "status": "ok",
     "timestamp": 1558525859872,
     "user": {
      "displayName": "Julia Będziechowska",
      "photoUrl": "https://lh6.googleusercontent.com/-Pq4qqpFWzx4/AAAAAAAAAAI/AAAAAAAAAuE/5W0xIWLM9tQ/s64/photo.jpg",
      "userId": "07290011566995809201"
     },
     "user_tz": -60
    },
    "id": "tcmw44e5qQOZ",
    "outputId": "8f855f4e-7d38-4155-c3da-3ab1f23a2daa",
    "scrolled": true
   },
   "outputs": [
    {
     "name": "stdout",
     "output_type": "stream",
     "text": [
      "Requirement already satisfied: wfdb in c:\\users\\julka\\anaconda3\\lib\\site-packages (2.2.1)\n",
      "Requirement already satisfied: pandas>=0.19.1 in c:\\users\\julka\\anaconda3\\lib\\site-packages (from wfdb) (0.23.4)\n",
      "Requirement already satisfied: numpy>=1.11.0 in c:\\users\\julka\\anaconda3\\lib\\site-packages (from wfdb) (1.15.2)\n",
      "Requirement already satisfied: requests>=2.10.0 in c:\\users\\julka\\anaconda3\\lib\\site-packages (from wfdb) (2.19.1)\n",
      "Requirement already satisfied: scipy>=0.19.0 in c:\\users\\julka\\anaconda3\\lib\\site-packages (from wfdb) (1.1.0)\n",
      "Requirement already satisfied: matplotlib>=1.5.1 in c:\\users\\julka\\anaconda3\\lib\\site-packages (from wfdb) (3.0.0)\n",
      "Requirement already satisfied: sklearn>=0.0 in c:\\users\\julka\\anaconda3\\lib\\site-packages (from wfdb) (0.0)\n",
      "Requirement already satisfied: nose>=1.3.7 in c:\\users\\julka\\anaconda3\\lib\\site-packages (from wfdb) (1.3.7)\n",
      "Requirement already satisfied: python-dateutil>=2.5.0 in c:\\users\\julka\\anaconda3\\lib\\site-packages (from pandas>=0.19.1->wfdb) (2.7.3)\n",
      "Requirement already satisfied: pytz>=2011k in c:\\users\\julka\\anaconda3\\lib\\site-packages (from pandas>=0.19.1->wfdb) (2018.5)\n",
      "Requirement already satisfied: certifi>=2017.4.17 in c:\\users\\julka\\anaconda3\\lib\\site-packages (from requests>=2.10.0->wfdb) (2018.8.24)\n",
      "Requirement already satisfied: urllib3<1.24,>=1.21.1 in c:\\users\\julka\\anaconda3\\lib\\site-packages (from requests>=2.10.0->wfdb) (1.23)\n",
      "Requirement already satisfied: chardet<3.1.0,>=3.0.2 in c:\\users\\julka\\anaconda3\\lib\\site-packages (from requests>=2.10.0->wfdb) (3.0.4)\n",
      "Requirement already satisfied: idna<2.8,>=2.5 in c:\\users\\julka\\anaconda3\\lib\\site-packages (from requests>=2.10.0->wfdb) (2.7)\n",
      "Requirement already satisfied: cycler>=0.10 in c:\\users\\julka\\anaconda3\\lib\\site-packages (from matplotlib>=1.5.1->wfdb) (0.10.0)\n",
      "Requirement already satisfied: kiwisolver>=1.0.1 in c:\\users\\julka\\anaconda3\\lib\\site-packages (from matplotlib>=1.5.1->wfdb) (1.0.1)\n",
      "Requirement already satisfied: pyparsing!=2.0.4,!=2.1.2,!=2.1.6,>=2.0.1 in c:\\users\\julka\\anaconda3\\lib\\site-packages (from matplotlib>=1.5.1->wfdb) (2.2.1)\n",
      "Requirement already satisfied: scikit-learn in c:\\users\\julka\\anaconda3\\lib\\site-packages (from sklearn>=0.0->wfdb) (0.20.0)\n",
      "Requirement already satisfied: six>=1.5 in c:\\users\\julka\\anaconda3\\lib\\site-packages (from python-dateutil>=2.5.0->pandas>=0.19.1->wfdb) (1.11.0)\n",
      "Requirement already satisfied: setuptools in c:\\users\\julka\\anaconda3\\lib\\site-packages (from kiwisolver>=1.0.1->matplotlib>=1.5.1->wfdb) (40.2.0)\n"
     ]
    }
   ],
   "source": [
    "!pip install wfdb"
   ]
  },
  {
   "cell_type": "code",
   "execution_count": 2,
   "metadata": {
    "colab": {
     "base_uri": "https://localhost:8080/",
     "height": 2726
    },
    "colab_type": "code",
    "collapsed": true,
    "executionInfo": {
     "elapsed": 4935,
     "status": "ok",
     "timestamp": 1558529993350,
     "user": {
      "displayName": "Julia Będziechowska",
      "photoUrl": "https://lh6.googleusercontent.com/-Pq4qqpFWzx4/AAAAAAAAAAI/AAAAAAAAAuE/5W0xIWLM9tQ/s64/photo.jpg",
      "userId": "07290011566995809201"
     },
     "user_tz": -60
    },
    "id": "m3bSq42YpykE",
    "outputId": "35f390dc-bb91-4765-99e5-a9755961dd44"
   },
   "outputs": [
    {
     "data": {
      "text/plain": [
       "<Figure size 640x480 with 12 Axes>"
      ]
     },
     "metadata": {},
     "output_type": "display_data"
    },
    {
     "data": {
      "text/plain": [
       "{'adc_gain': [306.0,\n",
       "  306.0,\n",
       "  306.0,\n",
       "  306.0,\n",
       "  306.0,\n",
       "  306.0,\n",
       "  306.0,\n",
       "  306.0,\n",
       "  306.0,\n",
       "  306.0,\n",
       "  306.0,\n",
       "  306.0],\n",
       " 'adc_res': [16, 16, 16, 16, 16, 16, 16, 16, 16, 16, 16, 16],\n",
       " 'adc_zero': [0, 0, 0, 0, 0, 0, 0, 0, 0, 0, 0, 0],\n",
       " 'base_counter': None,\n",
       " 'base_date': None,\n",
       " 'base_time': None,\n",
       " 'baseline': [0, 0, 0, 0, 0, 0, 0, 0, 0, 0, 0, 0],\n",
       " 'block_size': [0, 0, 0, 0, 0, 0, 0, 0, 0, 0, 0, 0],\n",
       " 'byte_offset': [None,\n",
       "  None,\n",
       "  None,\n",
       "  None,\n",
       "  None,\n",
       "  None,\n",
       "  None,\n",
       "  None,\n",
       "  None,\n",
       "  None,\n",
       "  None,\n",
       "  None],\n",
       " 'checksum': [-11409,\n",
       "  21378,\n",
       "  24619,\n",
       "  302,\n",
       "  2125,\n",
       "  2450,\n",
       "  -4606,\n",
       "  30327,\n",
       "  -27569,\n",
       "  -13507,\n",
       "  -4741,\n",
       "  -28645],\n",
       " 'comments': ['<age>: 65 <sex>: F <diagnoses> Coronary artery disease, arterial hypertension',\n",
       "  'patient 1',\n",
       "  'PVCs, noise'],\n",
       " 'counter_freq': None,\n",
       " 'd_signal': None,\n",
       " 'e_d_signal': None,\n",
       " 'e_p_signal': None,\n",
       " 'file_name': ['I01.dat',\n",
       "  'I01.dat',\n",
       "  'I01.dat',\n",
       "  'I01.dat',\n",
       "  'I01.dat',\n",
       "  'I01.dat',\n",
       "  'I01.dat',\n",
       "  'I01.dat',\n",
       "  'I01.dat',\n",
       "  'I01.dat',\n",
       "  'I01.dat',\n",
       "  'I01.dat'],\n",
       " 'fmt': ['16',\n",
       "  '16',\n",
       "  '16',\n",
       "  '16',\n",
       "  '16',\n",
       "  '16',\n",
       "  '16',\n",
       "  '16',\n",
       "  '16',\n",
       "  '16',\n",
       "  '16',\n",
       "  '16'],\n",
       " 'fs': 257,\n",
       " 'init_value': [1161,\n",
       "  457,\n",
       "  -93,\n",
       "  -850,\n",
       "  467,\n",
       "  179,\n",
       "  -1052,\n",
       "  -1020,\n",
       "  -1045,\n",
       "  -1246,\n",
       "  506,\n",
       "  1972],\n",
       " 'n_sig': 12,\n",
       " 'p_signal': array([[ 3.79411765,  1.49346405, -0.30392157, ..., -4.07189542,\n",
       "          1.65359477,  6.44444444],\n",
       "        [ 3.75816993,  1.47712418, -0.28431373, ..., -4.05228758,\n",
       "          1.66013072,  6.44771242],\n",
       "        [ 3.76470588,  1.49673203, -0.27124183, ..., -4.01633987,\n",
       "          1.67320261,  6.44771242],\n",
       "        ...,\n",
       "        [ 0.54901961,  4.60784314,  6.05555556, ..., -0.29084967,\n",
       "          4.88562092,  0.61764706],\n",
       "        [ 0.49673203,  4.59150327,  6.09150327, ..., -0.34313725,\n",
       "          4.86928105,  0.57843137],\n",
       "        [ 0.40849673,  4.57189542,  6.16013072, ..., -0.32679739,\n",
       "          4.87581699,  0.54248366]]),\n",
       " 'record_name': 'I01',\n",
       " 'samps_per_frame': [1, 1, 1, 1, 1, 1, 1, 1, 1, 1, 1, 1],\n",
       " 'sig_len': 462600,\n",
       " 'sig_name': ['I',\n",
       "  'II',\n",
       "  'III',\n",
       "  'AVR',\n",
       "  'AVL',\n",
       "  'AVF',\n",
       "  'V1',\n",
       "  'V2',\n",
       "  'V3',\n",
       "  'V4',\n",
       "  'V5',\n",
       "  'V6'],\n",
       " 'skew': [None,\n",
       "  None,\n",
       "  None,\n",
       "  None,\n",
       "  None,\n",
       "  None,\n",
       "  None,\n",
       "  None,\n",
       "  None,\n",
       "  None,\n",
       "  None,\n",
       "  None],\n",
       " 'units': ['mV',\n",
       "  'mV',\n",
       "  'mV',\n",
       "  'mV',\n",
       "  'mV',\n",
       "  'mV',\n",
       "  'mV',\n",
       "  'mV',\n",
       "  'mV',\n",
       "  'mV',\n",
       "  'mV',\n",
       "  'mV']}"
      ]
     },
     "metadata": {},
     "output_type": "display_data"
    }
   ],
   "source": [
    "import wfdb\n",
    "\n",
    "# Demo - Read a wfdb record using the 'rdrecord' function into a wfdb.Record object.\n",
    "# Plot the signals, and show the data.\n",
    "record = wfdb.rdrecord('I01') \n",
    "wfdb.plot_wfdb(record=record, title='Record') \n",
    "display(record.__dict__)"
   ]
  },
  {
   "cell_type": "code",
   "execution_count": 3,
   "metadata": {
    "colab": {},
    "colab_type": "code",
    "id": "wORjd2mQuYIf"
   },
   "outputs": [
    {
     "data": {
      "text/plain": [
       "[(0, 'I'),\n",
       " (1, 'II'),\n",
       " (2, 'III'),\n",
       " (3, 'AVR'),\n",
       " (4, 'AVL'),\n",
       " (5, 'AVF'),\n",
       " (6, 'V1'),\n",
       " (7, 'V2'),\n",
       " (8, 'V3'),\n",
       " (9, 'V4'),\n",
       " (10, 'V5'),\n",
       " (11, 'V6')]"
      ]
     },
     "execution_count": 3,
     "metadata": {},
     "output_type": "execute_result"
    }
   ],
   "source": [
    "# Demo - Read just a header\n",
    "header = wfdb.rdheader('I01')\n",
    "# display(header.__dict__)\n",
    "signames = header.__dict__['sig_name']\n",
    "\n",
    "[(idx, signame) for idx, signame in enumerate(signames)]"
   ]
  },
  {
   "cell_type": "code",
   "execution_count": 4,
   "metadata": {
    "colab": {
     "base_uri": "https://localhost:8080/",
     "height": 295
    },
    "colab_type": "code",
    "executionInfo": {
     "elapsed": 756,
     "status": "ok",
     "timestamp": 1558028569991,
     "user": {
      "displayName": "Julia Będziechowska",
      "photoUrl": "https://lh6.googleusercontent.com/-Pq4qqpFWzx4/AAAAAAAAAAI/AAAAAAAAAuE/5W0xIWLM9tQ/s64/photo.jpg",
      "userId": "07290011566995809201"
     },
     "user_tz": -60
    },
    "id": "tAxIxcp7uU2C",
    "outputId": "2ed29e0e-de6d-4f05-c147-03c974cebcf7"
   },
   "outputs": [
    {
     "data": {
      "image/png": "[encoded data removed]",
      "text/plain": [
       "<Figure size 432x288 with 1 Axes>"
      ]
     },
     "metadata": {
      "needs_background": "light"
     },
     "output_type": "display_data"
    }
   ],
   "source": [
    "# Demo - Read part of a WFDB annotation file into a wfdb.Annotation object, and plot the samples\n",
    "annotation = wfdb.rdann('I01', 'atr', sampfrom=100000, sampto=101000)\n",
    "annotation.fs = 257\n",
    "wfdb.plot_wfdb(annotation=annotation, time_units='minutes')"
   ]
  },
  {
   "cell_type": "code",
   "execution_count": 5,
   "metadata": {
    "colab": {
     "base_uri": "https://localhost:8080/",
     "height": 319
    },
    "colab_type": "code",
    "executionInfo": {
     "elapsed": 987,
     "status": "ok",
     "timestamp": 1558028765114,
     "user": {
      "displayName": "Julia Będziechowska",
      "photoUrl": "https://lh6.googleusercontent.com/-Pq4qqpFWzx4/AAAAAAAAAAI/AAAAAAAAAuE/5W0xIWLM9tQ/s64/photo.jpg",
      "userId": "07290011566995809201"
     },
     "user_tz": -60
    },
    "id": "zY20B3onv9n6",
    "outputId": "073089c4-d134-4324-dd10-aa6272eea071"
   },
   "outputs": [
    {
     "data": {
      "text/plain": [
       "array([[ 3.71895425,  1.41176471, -0.31045752, -2.69934641],\n",
       "       [ 3.67647059,  1.42810458, -0.25163399, -2.68627451],\n",
       "       [ 3.67973856,  1.41503268, -0.26797386, -2.68300654],\n",
       "       ...,\n",
       "       [ 2.91830065,  0.5620915 , -0.35947712, -1.87581699],\n",
       "       [ 2.90196078,  0.53267974, -0.37254902, -1.85294118],\n",
       "       [ 2.89215686,  0.51960784, -0.37581699, -1.83986928]])"
      ]
     },
     "metadata": {},
     "output_type": "display_data"
    },
    {
     "data": {
      "text/plain": [
       "{'base_date': None,\n",
       " 'base_time': None,\n",
       " 'comments': ['<age>: 65 <sex>: F <diagnoses> Coronary artery disease, arterial hypertension',\n",
       "  'patient 1',\n",
       "  'PVCs, noise'],\n",
       " 'fs': 257,\n",
       " 'n_sig': 4,\n",
       " 'sig_len': 14900,\n",
       " 'sig_name': ['I', 'II', 'III', 'AVR'],\n",
       " 'units': ['mV', 'mV', 'mV', 'mV']}"
      ]
     },
     "metadata": {},
     "output_type": "display_data"
    }
   ],
   "source": [
    "signals, fields = wfdb.rdsamp('I01', channels=[0, 1, 2, 3], sampfrom=100, sampto=15000)\n",
    "display(signals)\n",
    "display(fields)"
   ]
  },
  {
   "cell_type": "code",
   "execution_count": 7,
   "metadata": {
    "colab": {
     "base_uri": "https://localhost:8080/",
     "height": 295
    },
    "colab_type": "code",
    "executionInfo": {
     "elapsed": 912,
     "status": "ok",
     "timestamp": 1558029126567,
     "user": {
      "displayName": "Julia Będziechowska",
      "photoUrl": "https://lh6.googleusercontent.com/-Pq4qqpFWzx4/AAAAAAAAAAI/AAAAAAAAAuE/5W0xIWLM9tQ/s64/photo.jpg",
      "userId": "07290011566995809201"
     },
     "user_tz": -60
    },
    "id": "687kgts9vnKA",
    "outputId": "e21f1a08-df7d-4686-a25c-642b87e79bdd"
   },
   "outputs": [
    {
     "data": {
      "image/png": "[encoded data removed]",
      "text/plain": [
       "<Figure size 432x288 with 2 Axes>"
      ]
     },
     "metadata": {
      "needs_background": "light"
     },
     "output_type": "display_data"
    },
    {
     "data": {
      "text/plain": [
       "<wfdb.io.annotation.Annotation at 0x2158c676a20>"
      ]
     },
     "execution_count": 7,
     "metadata": {},
     "output_type": "execute_result"
    }
   ],
   "source": [
    "# Demo 5 - Read a WFDB record and annotation. Plot all channels, and the annotation on top of channel 0.\n",
    "record = wfdb.rdrecord('I01', channels=[1, 6], sampto = 1500)\n",
    "annotation = wfdb.rdann('I01', 'atr', sampto = 1500)\n",
    "\n",
    "wfdb.plot_wfdb(record=record, annotation=annotation,\n",
    "               title='Record I01, channels II and V1',\n",
    "               time_units='seconds')\n",
    "\n",
    "annotation"
   ]
  },
  {
   "cell_type": "code",
   "execution_count": 8,
   "metadata": {
    "scrolled": true
   },
   "outputs": [],
   "source": [
    "record = wfdb.rdrecord('I01', channels=[1, 6])\n",
    "annotation = wfdb.rdann('I01', 'atr')\n",
    "\n",
    "signals = record.__dict__['p_signal']\n",
    "channel_ii = signals[:, 0]\n",
    "channel_v1 = signals[:, 1]\n",
    "\n",
    "ticks = annotation.__dict__['sample']\n",
    "symbols = annotation.__dict__['symbol']"
   ]
  },
  {
   "cell_type": "code",
   "execution_count": 9,
   "metadata": {},
   "outputs": [
    {
     "data": {
      "text/plain": [
       "[<matplotlib.lines.Line2D at 0x2158f95feb8>]"
      ]
     },
     "execution_count": 9,
     "metadata": {},
     "output_type": "execute_result"
    },
    {
     "data": {
      "image/png": "[encoded data removed]",
      "text/plain": [
       "<Figure size 432x288 with 1 Axes>"
      ]
     },
     "metadata": {
      "needs_background": "light"
     },
     "output_type": "display_data"
    }
   ],
   "source": [
    "import tensorflow as tf\n",
    "import numpy as np\n",
    "import matplotlib.pyplot as plt\n",
    "\n",
    "ticks_signal = np.zeros(channel_ii.shape)\n",
    "ticks_signal[ticks] = 1.0\n",
    "plt.plot(ticks_signal[:1000])"
   ]
  },
  {
   "cell_type": "code",
   "execution_count": 10,
   "metadata": {},
   "outputs": [],
   "source": [
    "def parabola(a,n,r):\n",
    "    assert n>2*r\n",
    "    y = np.zeros(n, dtype = np.float32)\n",
    "    x = np.array(range(2, 2 * r+1))\n",
    "    for i in a:\n",
    "        if i > r-1 and i <= n-r:\n",
    "            # y[i-r-1:i+r+1] = ((r+1)**2-(x-r-1)**2)/(r+1)**2\n",
    "            y[i-r+1:i+r] = ((r+1)**2-(x-r-1)**2)/(r+1)**2\n",
    "        elif i < r:\n",
    "            y[:i+r] = ((r+1)**2-(x[r-i-1:]-r-1)**2)/(r+1)**2\n",
    "        elif i<n:\n",
    "            y[i-r+1:] = ((r+1)**2-(x[:r-1+(n-i)]-r-1)**2)/(r+1)**2\n",
    "    return y\n"
   ]
  },
  {
   "cell_type": "code",
   "execution_count": 11,
   "metadata": {},
   "outputs": [
    {
     "name": "stdout",
     "output_type": "stream",
     "text": [
      "(2, 340000) (2, 60000) (2, 62600)\n",
      "240\n",
      "240\n",
      "240\n"
     ]
    }
   ],
   "source": [
    "# parameters\n",
    "window_size = 250\n",
    "p_param = 10\n",
    "\n",
    "# prepare channel_II and spikes\n",
    "chii = channel_ii.reshape((1, -1))\n",
    "\n",
    "p = parabola(ticks, len(ticks_signal), p_param)\n",
    "targets = p.reshape((1, -1))\n",
    "\n",
    "# join signal and spikes together in one array (2, ...)\n",
    "chii_data = np.asarray([channel_ii, p], np.float32)\n",
    "\n",
    "def selectFromSignal(signal, seqL, ninputs, numChan=2):\n",
    "    \"\"\" \n",
    "    seqL:  number of timesteps to be used in recurrent nn\n",
    "    ninput : is number of inputs in each timestep\n",
    "    \"\"\"\n",
    "    segmentL  = seqL * ninputs; print(segmentL)\n",
    "    inpOutSegment = tf.random_crop(signal, [numChan, segmentL])\n",
    "    inputs = inpOutSegment[0, :]\n",
    "    target = inpOutSegment[1, :]\n",
    "    return inputs, target\n",
    "\n",
    "N = chii_data.shape[1]\n",
    "seqL = 20\n",
    "fs = 257\n",
    "ninputs = int(0.05*fs) \n",
    "batchSize = 8\n",
    "\n",
    "testDataSize = 62600\n",
    "val_perc = 0.15\n",
    "\n",
    "# train test split\n",
    "trainData = chii_data[:, :N-testDataSize]\n",
    "testData = chii_data[:, N-testDataSize:]\n",
    "\n",
    "# train validation split\n",
    "valData = trainData[:, :int(trainData.shape[1]*val_perc)]\n",
    "trainData = trainData[:, int(trainData.shape[1]*val_perc):]\n",
    "\n",
    "print(trainData.shape, valData.shape, testData.shape)\n",
    "\n",
    "# training data\n",
    "trainData = tf.data.Dataset.from_tensors(trainData)\n",
    "trainData = trainData.map(lambda x:  selectFromSignal(x, seqL, ninputs))\n",
    "trainData = trainData.repeat()  # Repeat the input indefinitely.\n",
    "trainData = trainData.batch(batchSize)\n",
    "\n",
    "# validation data\n",
    "valData = tf.data.Dataset.from_tensors(valData)\n",
    "valData = valData.map(lambda x:  selectFromSignal(x, seqL, ninputs))\n",
    "valData = valData.repeat()  # Repeat the input indefinitely.\n",
    "valData = valData.batch(batchSize)\n",
    "\n",
    "# test data\n",
    "testData = tf.data.Dataset.from_tensors(testData)\n",
    "testData = testData.map(lambda x:  selectFromSignal(x, seqL, ninputs))\n",
    "testData = testData.repeat()  # Repeat the input indefinitely.\n",
    "testData = testData.batch(batchSize)\n"
   ]
  },
  {
   "cell_type": "code",
   "execution_count": null,
   "metadata": {},
   "outputs": [],
   "source": [
    "tf.__version"
   ]
  },
  {
   "cell_type": "code",
   "execution_count": 12,
   "metadata": {},
   "outputs": [
    {
     "data": {
      "image/png": "[encoded data removed]",
      "text/plain": [
       "<Figure size 432x288 with 1 Axes>"
      ]
     },
     "metadata": {
      "needs_background": "light"
     },
     "output_type": "display_data"
    },
    {
     "data": {
      "image/png": "[encoded data removed]",
      "text/plain": [
       "<Figure size 432x288 with 1 Axes>"
      ]
     },
     "metadata": {
      "needs_background": "light"
     },
     "output_type": "display_data"
    }
   ],
   "source": [
    "# let's visualize the model's input data and target data\n",
    "iterator = trainData.make_initializable_iterator()\n",
    "next_element = iterator.get_next()\n",
    "with tf.Session() as sess:\n",
    "    sess.run(iterator.initializer)\n",
    "    inp, targ = sess.run(next_element)\n",
    "    \n",
    "plt.plot(inp[0,:])\n",
    "plt.title('inputs')\n",
    "plt.show()\n",
    "plt.plot(targ[0,:])\n",
    "plt.title('targets')\n",
    "plt.show()"
   ]
  },
  {
   "cell_type": "code",
   "execution_count": 13,
   "metadata": {},
   "outputs": [
    {
     "name": "stdout",
     "output_type": "stream",
     "text": [
      "_________________________________________________________________\n",
      "Layer (type)                 Output Shape              Param #   \n",
      "=================================================================\n",
      "dense_1 (Dense)              (None, 64)                15424     \n",
      "_________________________________________________________________\n",
      "dense_2 (Dense)              (None, 64)                4160      \n",
      "_________________________________________________________________\n",
      "dense_3 (Dense)              (None, 240)               15600     \n",
      "=================================================================\n",
      "Total params: 35,184\n",
      "Trainable params: 35,184\n",
      "Non-trainable params: 0\n",
      "_________________________________________________________________\n",
      "WARNING:tensorflow:From C:\\Users\\julka\\Anaconda3\\lib\\site-packages\\tensorflow\\python\\keras\\_impl\\keras\\backend.py:1557: calling reduce_mean (from tensorflow.python.ops.math_ops) with keep_dims is deprecated and will be removed in a future version.\n",
      "Instructions for updating:\n",
      "keep_dims is deprecated, use keepdims instead\n"
     ]
    },
    {
     "ename": "TypeError",
     "evalue": "Error when checking model input: data should be a Numpy array, or list/dict of Numpy arrays. Found: <BatchDataset shapes: ((?, 240), (?, 240)), types: (tf.float32, tf.float32)>...",
     "output_type": "error",
     "traceback": [
      "\u001b[1;31m---------------------------------------------------------------------------\u001b[0m",
      "\u001b[1;31mTypeError\u001b[0m                                 Traceback (most recent call last)",
      "\u001b[1;32m<ipython-input-13-d2cf023e1708>\u001b[0m in \u001b[0;36m<module>\u001b[1;34m()\u001b[0m\n\u001b[0;32m      8\u001b[0m \u001b[1;33m\u001b[0m\u001b[0m\n\u001b[0;32m      9\u001b[0m \u001b[0mffwdModel\u001b[0m\u001b[1;33m.\u001b[0m\u001b[0mcompile\u001b[0m\u001b[1;33m(\u001b[0m\u001b[0moptimizer\u001b[0m\u001b[1;33m=\u001b[0m\u001b[0mtf\u001b[0m\u001b[1;33m.\u001b[0m\u001b[0mtrain\u001b[0m\u001b[1;33m.\u001b[0m\u001b[0mRMSPropOptimizer\u001b[0m\u001b[1;33m(\u001b[0m\u001b[1;36m0.001\u001b[0m\u001b[1;33m)\u001b[0m\u001b[1;33m,\u001b[0m \u001b[0mloss\u001b[0m\u001b[1;33m=\u001b[0m\u001b[1;34m'MSE'\u001b[0m\u001b[1;33m,\u001b[0m\u001b[0mmetrics\u001b[0m\u001b[1;33m=\u001b[0m\u001b[1;33m[\u001b[0m\u001b[1;34m'mae'\u001b[0m\u001b[1;33m]\u001b[0m\u001b[1;33m)\u001b[0m\u001b[1;33m\u001b[0m\u001b[0m\n\u001b[1;32m---> 10\u001b[1;33m \u001b[0mffwdModel\u001b[0m\u001b[1;33m.\u001b[0m\u001b[0mfit\u001b[0m\u001b[1;33m(\u001b[0m\u001b[0mtrainData\u001b[0m\u001b[1;33m,\u001b[0m \u001b[0mepochs\u001b[0m\u001b[1;33m=\u001b[0m\u001b[1;36m10\u001b[0m\u001b[1;33m,\u001b[0m \u001b[0msteps_per_epoch\u001b[0m\u001b[1;33m=\u001b[0m\u001b[1;36m1000\u001b[0m\u001b[1;33m,\u001b[0m \u001b[0mvalidation_data\u001b[0m\u001b[1;33m=\u001b[0m\u001b[0mvalData\u001b[0m\u001b[1;33m,\u001b[0m \u001b[0mvalidation_steps\u001b[0m\u001b[1;33m=\u001b[0m\u001b[1;36m100\u001b[0m\u001b[1;33m)\u001b[0m\u001b[1;33m\u001b[0m\u001b[0m\n\u001b[0m",
      "\u001b[1;32m~\\Anaconda3\\lib\\site-packages\\tensorflow\\python\\keras\\_impl\\keras\\models.py\u001b[0m in \u001b[0;36mfit\u001b[1;34m(self, x, y, batch_size, epochs, verbose, callbacks, validation_split, validation_data, shuffle, class_weight, sample_weight, initial_epoch, steps_per_epoch, validation_steps, **kwargs)\u001b[0m\n\u001b[0;32m    918\u001b[0m         \u001b[0minitial_epoch\u001b[0m\u001b[1;33m=\u001b[0m\u001b[0minitial_epoch\u001b[0m\u001b[1;33m,\u001b[0m\u001b[1;33m\u001b[0m\u001b[0m\n\u001b[0;32m    919\u001b[0m         \u001b[0msteps_per_epoch\u001b[0m\u001b[1;33m=\u001b[0m\u001b[0msteps_per_epoch\u001b[0m\u001b[1;33m,\u001b[0m\u001b[1;33m\u001b[0m\u001b[0m\n\u001b[1;32m--> 920\u001b[1;33m         validation_steps=validation_steps)\n\u001b[0m\u001b[0;32m    921\u001b[0m \u001b[1;33m\u001b[0m\u001b[0m\n\u001b[0;32m    922\u001b[0m   \u001b[1;32mdef\u001b[0m \u001b[0mevaluate\u001b[0m\u001b[1;33m(\u001b[0m\u001b[0mself\u001b[0m\u001b[1;33m,\u001b[0m \u001b[0mx\u001b[0m\u001b[1;33m,\u001b[0m \u001b[0my\u001b[0m\u001b[1;33m,\u001b[0m \u001b[0mbatch_size\u001b[0m\u001b[1;33m=\u001b[0m\u001b[1;36m32\u001b[0m\u001b[1;33m,\u001b[0m \u001b[0mverbose\u001b[0m\u001b[1;33m=\u001b[0m\u001b[1;36m1\u001b[0m\u001b[1;33m,\u001b[0m \u001b[0msample_weight\u001b[0m\u001b[1;33m=\u001b[0m\u001b[1;32mNone\u001b[0m\u001b[1;33m)\u001b[0m\u001b[1;33m:\u001b[0m\u001b[1;33m\u001b[0m\u001b[0m\n",
      "\u001b[1;32m~\\Anaconda3\\lib\\site-packages\\tensorflow\\python\\keras\\_impl\\keras\\engine\\training.py\u001b[0m in \u001b[0;36mfit\u001b[1;34m(self, x, y, batch_size, epochs, verbose, callbacks, validation_split, validation_data, shuffle, class_weight, sample_weight, initial_epoch, steps_per_epoch, validation_steps)\u001b[0m\n\u001b[0;32m   1590\u001b[0m         \u001b[0mclass_weight\u001b[0m\u001b[1;33m=\u001b[0m\u001b[0mclass_weight\u001b[0m\u001b[1;33m,\u001b[0m\u001b[1;33m\u001b[0m\u001b[0m\n\u001b[0;32m   1591\u001b[0m         \u001b[0mcheck_batch_axis\u001b[0m\u001b[1;33m=\u001b[0m\u001b[1;32mFalse\u001b[0m\u001b[1;33m,\u001b[0m\u001b[1;33m\u001b[0m\u001b[0m\n\u001b[1;32m-> 1592\u001b[1;33m         batch_size=batch_size)\n\u001b[0m\u001b[0;32m   1593\u001b[0m \u001b[1;33m\u001b[0m\u001b[0m\n\u001b[0;32m   1594\u001b[0m     \u001b[1;31m# Prepare validation data.\u001b[0m\u001b[1;33m\u001b[0m\u001b[1;33m\u001b[0m\u001b[0m\n",
      "\u001b[1;32m~\\Anaconda3\\lib\\site-packages\\tensorflow\\python\\keras\\_impl\\keras\\engine\\training.py\u001b[0m in \u001b[0;36m_standardize_user_data\u001b[1;34m(self, x, y, sample_weight, class_weight, check_batch_axis, batch_size)\u001b[0m\n\u001b[0;32m   1429\u001b[0m         \u001b[0mself\u001b[0m\u001b[1;33m.\u001b[0m\u001b[0m_feed_input_shapes\u001b[0m\u001b[1;33m,\u001b[0m\u001b[1;33m\u001b[0m\u001b[0m\n\u001b[0;32m   1430\u001b[0m         \u001b[0mcheck_batch_axis\u001b[0m\u001b[1;33m=\u001b[0m\u001b[1;32mFalse\u001b[0m\u001b[1;33m,\u001b[0m\u001b[1;33m\u001b[0m\u001b[0m\n\u001b[1;32m-> 1431\u001b[1;33m         exception_prefix='input')\n\u001b[0m\u001b[0;32m   1432\u001b[0m     y = _standardize_input_data(\n\u001b[0;32m   1433\u001b[0m         \u001b[0my\u001b[0m\u001b[1;33m,\u001b[0m\u001b[1;33m\u001b[0m\u001b[0m\n",
      "\u001b[1;32m~\\Anaconda3\\lib\\site-packages\\tensorflow\\python\\keras\\_impl\\keras\\engine\\training.py\u001b[0m in \u001b[0;36m_standardize_input_data\u001b[1;34m(data, names, shapes, check_batch_axis, exception_prefix)\u001b[0m\n\u001b[0;32m    115\u001b[0m                       \u001b[1;34m': data should be a Numpy array, '\u001b[0m\u001b[1;33m\u001b[0m\u001b[0m\n\u001b[0;32m    116\u001b[0m                       \u001b[1;34m'or list/dict of Numpy arrays. '\u001b[0m\u001b[1;33m\u001b[0m\u001b[0m\n\u001b[1;32m--> 117\u001b[1;33m                       'Found: ' + str(data)[:200] + '...')\n\u001b[0m\u001b[0;32m    118\u001b[0m     \u001b[1;32mif\u001b[0m \u001b[0mlen\u001b[0m\u001b[1;33m(\u001b[0m\u001b[0mnames\u001b[0m\u001b[1;33m)\u001b[0m \u001b[1;33m>\u001b[0m \u001b[1;36m1\u001b[0m\u001b[1;33m:\u001b[0m\u001b[1;33m\u001b[0m\u001b[0m\n\u001b[0;32m    119\u001b[0m       \u001b[1;31m# Case: model expects multiple inputs but only received\u001b[0m\u001b[1;33m\u001b[0m\u001b[1;33m\u001b[0m\u001b[0m\n",
      "\u001b[1;31mTypeError\u001b[0m: Error when checking model input: data should be a Numpy array, or list/dict of Numpy arrays. Found: <BatchDataset shapes: ((?, 240), (?, 240)), types: (tf.float32, tf.float32)>..."
     ]
    }
   ],
   "source": [
    "from tensorflow.python.keras import layers\n",
    "\n",
    "ffwdModel = tf.keras.Sequential()\n",
    "ffwdModel.add(layers.Dense(64, activation='relu', input_shape=(seqL*ninputs,)))\n",
    "ffwdModel.add(layers.Dense(64, activation='relu'))\n",
    "ffwdModel.add(layers.Dense(seqL * ninputs))\n",
    "ffwdModel.summary()\n",
    "\n",
    "ffwdModel.compile(optimizer=tf.train.RMSPropOptimizer(0.001), loss='MSE',metrics=['mae'])\n",
    "ffwdModel.fit(trainData, epochs=10, steps_per_epoch=1000, validation_data=valData, validation_steps=100)"
   ]
  }
 ],
 "metadata": {
  "colab": {
   "collapsed_sections": [],
   "name": "QRS-detectors.ipynb",
   "provenance": [],
   "version": "0.3.2"
  },
  "kernelspec": {
   "display_name": "Python 3.6",
   "language": "python",
   "name": "py36"
  },
  "language_info": {
   "codemirror_mode": {
    "name": "ipython",
    "version": 3
   },
   "file_extension": ".py",
   "mimetype": "text/x-python",
   "name": "python",
   "nbconvert_exporter": "python",
   "pygments_lexer": "ipython3",
   "version": "3.5.0"
  }
 },
 "nbformat": 4,
 "nbformat_minor": 1
}
